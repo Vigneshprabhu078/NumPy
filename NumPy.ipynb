{
  "nbformat": 4,
  "nbformat_minor": 0,
  "metadata": {
    "colab": {
      "provenance": [],
      "toc_visible": true
    },
    "kernelspec": {
      "name": "python3",
      "display_name": "Python 3"
    },
    "language_info": {
      "name": "python"
    }
  },
  "cells": [
    {
      "cell_type": "markdown",
      "source": [
        "NumPy - Numerical Python\n"
      ],
      "metadata": {
        "id": "gtphlmBbnytQ"
      }
    },
    {
      "cell_type": "code",
      "source": [
        "import numpy as np\n"
      ],
      "metadata": {
        "id": "BA6XsMtOn7D_"
      },
      "execution_count": 29,
      "outputs": []
    },
    {
      "cell_type": "markdown",
      "source": [
        "List vs Numpy - Time comparison"
      ],
      "metadata": {
        "id": "3SdVZdVLoXml"
      }
    },
    {
      "cell_type": "code",
      "source": [
        "from time import process_time\n",
        "python_list=[i for i in range(1000000)]\n",
        "start_time=process_time()\n",
        "python_list=[i+5 for i in python_list]\n",
        "end_time=process_time()\n",
        "print(end_time-start_time)"
      ],
      "metadata": {
        "colab": {
          "base_uri": "https://localhost:8080/"
        },
        "id": "_AJCyezfopGY",
        "outputId": "ed49c79c-8cdb-40a8-e350-63a844da055d"
      },
      "execution_count": 30,
      "outputs": [
        {
          "output_type": "stream",
          "name": "stdout",
          "text": [
            "0.11649888899999894\n"
          ]
        }
      ]
    },
    {
      "cell_type": "code",
      "source": [
        "np_array=np.array([i for i in range(1000000)])\n",
        "start_time=process_time()\n",
        "np_array=np_array+5\n",
        "end_time=process_time()\n",
        "print(end_time-start_time)"
      ],
      "metadata": {
        "colab": {
          "base_uri": "https://localhost:8080/"
        },
        "id": "QRNXCIZMpObA",
        "outputId": "a390ce55-b5b6-4ab3-d159-2af77f198325"
      },
      "execution_count": 31,
      "outputs": [
        {
          "output_type": "stream",
          "name": "stdout",
          "text": [
            "0.0022287950000006163\n"
          ]
        }
      ]
    },
    {
      "cell_type": "markdown",
      "source": [
        "NumPy Arrays"
      ],
      "metadata": {
        "id": "DakIfVFxrmkE"
      }
    },
    {
      "cell_type": "code",
      "source": [
        "list1=[1,2,3,4,5]\n",
        "print(list1)\n",
        "print(type(list1))"
      ],
      "metadata": {
        "colab": {
          "base_uri": "https://localhost:8080/"
        },
        "id": "YC_XfTf6rQTU",
        "outputId": "ee59c745-edd2-4989-c261-28f4a90b276c"
      },
      "execution_count": 32,
      "outputs": [
        {
          "output_type": "stream",
          "name": "stdout",
          "text": [
            "[1, 2, 3, 4, 5]\n",
            "<class 'list'>\n"
          ]
        }
      ]
    },
    {
      "cell_type": "code",
      "source": [
        "np_array=np.array([1,2,3,4,5])\n",
        "print(np_array)\n",
        "(type(np_array))"
      ],
      "metadata": {
        "colab": {
          "base_uri": "https://localhost:8080/"
        },
        "id": "tnmGDgQurxoO",
        "outputId": "1e699dff-1c24-464a-cc14-dc64c4b7ea65"
      },
      "execution_count": 33,
      "outputs": [
        {
          "output_type": "stream",
          "name": "stdout",
          "text": [
            "[1 2 3 4 5]\n"
          ]
        },
        {
          "output_type": "execute_result",
          "data": {
            "text/plain": [
              "numpy.ndarray"
            ]
          },
          "metadata": {},
          "execution_count": 33
        }
      ]
    },
    {
      "cell_type": "code",
      "source": [
        "# creating 1 Dim Np Array\n",
        "np_array1=np.array([1,2,3,4,5])\n",
        "print(np_array1)\n",
        "np_array1.shape"
      ],
      "metadata": {
        "colab": {
          "base_uri": "https://localhost:8080/"
        },
        "id": "KwcY0GS7r2aG",
        "outputId": "b00bad02-872d-4287-9965-cfdaf40d856e"
      },
      "execution_count": 34,
      "outputs": [
        {
          "output_type": "stream",
          "name": "stdout",
          "text": [
            "[1 2 3 4 5]\n"
          ]
        },
        {
          "output_type": "execute_result",
          "data": {
            "text/plain": [
              "(5,)"
            ]
          },
          "metadata": {},
          "execution_count": 34
        }
      ]
    },
    {
      "cell_type": "code",
      "source": [
        "np_array2=np.array([(1,2,3),(3,4,5)])\n",
        "print(np_array2)\n",
        "np_array2.shape"
      ],
      "metadata": {
        "colab": {
          "base_uri": "https://localhost:8080/"
        },
        "id": "4uRb-_xYsQrU",
        "outputId": "3ce29095-8cc2-4efc-fb9f-cca6a1daaec8"
      },
      "execution_count": 35,
      "outputs": [
        {
          "output_type": "stream",
          "name": "stdout",
          "text": [
            "[[1 2 3]\n",
            " [3 4 5]]\n"
          ]
        },
        {
          "output_type": "execute_result",
          "data": {
            "text/plain": [
              "(2, 3)"
            ]
          },
          "metadata": {},
          "execution_count": 35
        }
      ]
    },
    {
      "cell_type": "code",
      "source": [
        "#create array with zeros\n",
        "np_array3=np.zeros((2,3))\n",
        "print(np_array3)"
      ],
      "metadata": {
        "colab": {
          "base_uri": "https://localhost:8080/"
        },
        "id": "gD1tp5V6tE2m",
        "outputId": "41ee2548-e920-4396-d0eb-2bf58c2a9d98"
      },
      "execution_count": 36,
      "outputs": [
        {
          "output_type": "stream",
          "name": "stdout",
          "text": [
            "[[0. 0. 0.]\n",
            " [0. 0. 0.]]\n"
          ]
        }
      ]
    },
    {
      "cell_type": "code",
      "source": [
        "#create array with ones\n",
        "np_array4=np.ones((3,3))\n",
        "print(np_array4)"
      ],
      "metadata": {
        "colab": {
          "base_uri": "https://localhost:8080/"
        },
        "id": "gR1k7wiftlDG",
        "outputId": "031ac51f-ad70-4467-a5fa-ebfa4b4406b2"
      },
      "execution_count": 37,
      "outputs": [
        {
          "output_type": "stream",
          "name": "stdout",
          "text": [
            "[[1. 1. 1.]\n",
            " [1. 1. 1.]\n",
            " [1. 1. 1.]]\n"
          ]
        }
      ]
    },
    {
      "cell_type": "code",
      "source": [
        "# create a array with particular value\n",
        "np_array5=np.full((3,3),5)\n",
        "print(np_array5)"
      ],
      "metadata": {
        "colab": {
          "base_uri": "https://localhost:8080/"
        },
        "id": "cEoO5gZqt3gE",
        "outputId": "8fb37e3d-c545-4786-fe89-94b82d4b948d"
      },
      "execution_count": 38,
      "outputs": [
        {
          "output_type": "stream",
          "name": "stdout",
          "text": [
            "[[5 5 5]\n",
            " [5 5 5]\n",
            " [5 5 5]]\n"
          ]
        }
      ]
    },
    {
      "cell_type": "code",
      "source": [
        "# create a array with identical\n",
        "np_array6=np.eye(3)\n",
        "print(np_array6)"
      ],
      "metadata": {
        "colab": {
          "base_uri": "https://localhost:8080/"
        },
        "id": "VEnSvcLuxJIe",
        "outputId": "c292c2ce-5e22-40ee-8484-01910c87699c"
      },
      "execution_count": 39,
      "outputs": [
        {
          "output_type": "stream",
          "name": "stdout",
          "text": [
            "[[1. 0. 0.]\n",
            " [0. 1. 0.]\n",
            " [0. 0. 1.]]\n"
          ]
        }
      ]
    },
    {
      "cell_type": "code",
      "source": [
        "# create a array with random\n",
        "np_array7=np.random.random((3,3))\n",
        "print(np_array7)"
      ],
      "metadata": {
        "colab": {
          "base_uri": "https://localhost:8080/"
        },
        "id": "rJMnLUhlxW4U",
        "outputId": "31b167bd-4b6d-426a-c23b-d891e69231e7"
      },
      "execution_count": 28,
      "outputs": [
        {
          "output_type": "stream",
          "name": "stdout",
          "text": [
            "[[0.10603837 0.32068935 0.38248177]\n",
            " [0.29991652 0.96939083 0.02869401]\n",
            " [0.32214168 0.18344543 0.30687141]]\n"
          ]
        }
      ]
    },
    {
      "cell_type": "code",
      "source": [
        "c= np.random.randint(5,12,(3,3))\n",
        "print(c)"
      ],
      "metadata": {
        "colab": {
          "base_uri": "https://localhost:8080/"
        },
        "id": "Tel2-jGPxtHk",
        "outputId": "1530f407-2795-447b-bcc6-77e2f895757d"
      },
      "execution_count": 41,
      "outputs": [
        {
          "output_type": "stream",
          "name": "stdout",
          "text": [
            "[[ 5 11  7]\n",
            " [11  8  7]\n",
            " [ 9 10 10]]\n"
          ]
        }
      ]
    },
    {
      "cell_type": "markdown",
      "source": [
        "**Mathematical Operations**"
      ],
      "metadata": {
        "id": "aOrw8KK63o_C"
      }
    },
    {
      "cell_type": "code",
      "source": [
        "list1=[1,2,3,4,5]\n",
        "list2=[6,7,8,9,10]\n",
        "print(list1+list2)"
      ],
      "metadata": {
        "colab": {
          "base_uri": "https://localhost:8080/"
        },
        "id": "pQMHASBS3y-X",
        "outputId": "e58ccc7c-72b4-4625-dc8b-91f97d1b213b"
      },
      "execution_count": 42,
      "outputs": [
        {
          "output_type": "stream",
          "name": "stdout",
          "text": [
            "[1, 2, 3, 4, 5, 6, 7, 8, 9, 10]\n"
          ]
        }
      ]
    },
    {
      "cell_type": "code",
      "source": [
        "#np array runs element wise operation is available\n",
        "a=np.random.randint(3,9,(3,3))\n",
        "b=np.random.randint(3,9,(3,3))\n",
        "print(a)\n",
        "print(b)\n",
        "print(a+b)"
      ],
      "metadata": {
        "colab": {
          "base_uri": "https://localhost:8080/"
        },
        "id": "74xPxM-Q38An",
        "outputId": "ce0ed794-3971-4ab4-c379-82e55771715d"
      },
      "execution_count": 44,
      "outputs": [
        {
          "output_type": "stream",
          "name": "stdout",
          "text": [
            "[[4 7 8]\n",
            " [8 5 5]\n",
            " [8 4 7]]\n",
            "[[8 8 8]\n",
            " [8 5 3]\n",
            " [6 5 6]]\n",
            "[[12 15 16]\n",
            " [16 10  8]\n",
            " [14  9 13]]\n"
          ]
        }
      ]
    },
    {
      "cell_type": "code",
      "source": [
        "print(a+b)\n",
        "print(a-b)\n",
        "print(a*b)\n",
        "print(a/b)"
      ],
      "metadata": {
        "colab": {
          "base_uri": "https://localhost:8080/"
        },
        "id": "3BcfWRTu4piW",
        "outputId": "9fe44a05-86d5-45df-d023-140ca7b6b249"
      },
      "execution_count": 45,
      "outputs": [
        {
          "output_type": "stream",
          "name": "stdout",
          "text": [
            "[[12 15 16]\n",
            " [16 10  8]\n",
            " [14  9 13]]\n",
            "[[-4 -1  0]\n",
            " [ 0  0  2]\n",
            " [ 2 -1  1]]\n",
            "[[32 56 64]\n",
            " [64 25 15]\n",
            " [48 20 42]]\n",
            "[[0.5        0.875      1.        ]\n",
            " [1.         1.         1.66666667]\n",
            " [1.33333333 0.8        1.16666667]]\n"
          ]
        }
      ]
    },
    {
      "cell_type": "markdown",
      "source": [
        "**Array Manipulations**"
      ],
      "metadata": {
        "id": "dm0jz_X95QZ-"
      }
    },
    {
      "cell_type": "code",
      "source": [
        "array=np.random.randint(1,10,(3,3))\n",
        "print(array)\n",
        "print(array.shape)"
      ],
      "metadata": {
        "colab": {
          "base_uri": "https://localhost:8080/"
        },
        "id": "SKrNW9ly5Z9G",
        "outputId": "8d9e181c-a307-4fd5-e5c1-303414bb8ae8"
      },
      "execution_count": 47,
      "outputs": [
        {
          "output_type": "stream",
          "name": "stdout",
          "text": [
            "[[7 4 1]\n",
            " [8 3 5]\n",
            " [7 5 3]]\n",
            "(3, 3)\n"
          ]
        }
      ]
    }
  ]
}