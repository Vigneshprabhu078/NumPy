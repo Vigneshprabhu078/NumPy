{
  "nbformat": 4,
  "nbformat_minor": 0,
  "metadata": {
    "colab": {
      "provenance": []
    },
    "kernelspec": {
      "name": "python3",
      "display_name": "Python 3"
    },
    "language_info": {
      "name": "python"
    }
  },
  "cells": [
    {
      "cell_type": "markdown",
      "source": [
        "**What is Array**?\n",
        "\n",
        "An Array is a data structure  that stores values of same data type. In Python This is main difference between Arrays and Lists .while python lists can contain values corresponding to different data types,arrays in python can contain values corresponding   to same data type\n"
      ],
      "metadata": {
        "id": "sOz8UOSdGjUi"
      }
    },
    {
      "cell_type": "code",
      "source": [
        "#initializing numpy\n",
        "import numpy as np\n"
      ],
      "metadata": {
        "id": "LRGVcKJEHlVa"
      },
      "execution_count": 12,
      "outputs": []
    },
    {
      "cell_type": "code",
      "source": [
        "my_lst=[1,2,3,4,5]\n",
        "arr=np.array(my_lst)\n",
        "arr\n",
        "arr.shape"
      ],
      "metadata": {
        "colab": {
          "base_uri": "https://localhost:8080/"
        },
        "id": "qEHIsZMwH2Z3",
        "outputId": "a42f2313-b854-42c2-db07-35ffd0e18b56"
      },
      "execution_count": 13,
      "outputs": [
        {
          "output_type": "execute_result",
          "data": {
            "text/plain": [
              "(5,)"
            ]
          },
          "metadata": {},
          "execution_count": 13
        }
      ]
    },
    {
      "cell_type": "code",
      "source": [
        "A=[1,2,3,4,5]\n",
        "B=[6,7,8,9,10]\n",
        "C=[11,12,13,14,15]\n",
        "arr=np.array([A,B,C])\n",
        "arr.shape\n",
        "\n"
      ],
      "metadata": {
        "colab": {
          "base_uri": "https://localhost:8080/"
        },
        "id": "kufTWK0fJQM5",
        "outputId": "4d6d1803-4758-4e14-a518-8dcbb3ff22a4"
      },
      "execution_count": 14,
      "outputs": [
        {
          "output_type": "execute_result",
          "data": {
            "text/plain": [
              "(3, 5)"
            ]
          },
          "metadata": {},
          "execution_count": 14
        }
      ]
    },
    {
      "cell_type": "code",
      "source": [
        " arr"
      ],
      "metadata": {
        "colab": {
          "base_uri": "https://localhost:8080/"
        },
        "id": "ADXksbSdJRvR",
        "outputId": "8e13cc88-6a68-419a-95a4-d6361d47edb1"
      },
      "execution_count": 15,
      "outputs": [
        {
          "output_type": "execute_result",
          "data": {
            "text/plain": [
              "array([[ 1,  2,  3,  4,  5],\n",
              "       [ 6,  7,  8,  9, 10],\n",
              "       [11, 12, 13, 14, 15]])"
            ]
          },
          "metadata": {},
          "execution_count": 15
        }
      ]
    },
    {
      "cell_type": "code",
      "source": [
        "arr.reshape(5,3)"
      ],
      "metadata": {
        "colab": {
          "base_uri": "https://localhost:8080/"
        },
        "id": "bNMPsvG9JTnn",
        "outputId": "13063fca-6a3b-4987-f1c7-d5a4986ab6ae"
      },
      "execution_count": 16,
      "outputs": [
        {
          "output_type": "execute_result",
          "data": {
            "text/plain": [
              "array([[ 1,  2,  3],\n",
              "       [ 4,  5,  6],\n",
              "       [ 7,  8,  9],\n",
              "       [10, 11, 12],\n",
              "       [13, 14, 15]])"
            ]
          },
          "metadata": {},
          "execution_count": 16
        }
      ]
    }
  ]
}